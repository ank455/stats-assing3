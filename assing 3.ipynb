{
 "cells": [
  {
   "cell_type": "code",
   "execution_count": null,
   "id": "604f6533-7891-4b06-b23a-ecac2bf5823a",
   "metadata": {},
   "outputs": [],
   "source": [
    "# Ans 1\n",
    "\n",
    "The three measure pf central tendency are mean , median , mode."
   ]
  },
  {
   "cell_type": "code",
   "execution_count": null,
   "id": "e9013aeb-fcda-4cac-99fd-8901506776f9",
   "metadata": {},
   "outputs": [],
   "source": [
    "# Ans 2\n",
    "mean is the average of a given data set, median is the middlemost data value and the mode represents the most frequently occurring data value in the set.\n",
    "\n",
    "The central tendency can be found using the formula of mean ,median , mode."
   ]
  },
  {
   "cell_type": "code",
   "execution_count": 1,
   "id": "35170e9c-b829-40b5-8d1a-0cf087095007",
   "metadata": {},
   "outputs": [],
   "source": [
    "# Ans 3\n",
    "import numpy as np \n",
    "\n",
    "data = [178,177,176,177,178.2,178,175,179,180,175,178.9,176.2,177,172.5,178,176.5]"
   ]
  },
  {
   "cell_type": "code",
   "execution_count": 2,
   "id": "7667d7cd-963c-4189-9be8-aefa055f2996",
   "metadata": {},
   "outputs": [
    {
     "data": {
      "text/plain": [
       "177.01875"
      ]
     },
     "execution_count": 2,
     "metadata": {},
     "output_type": "execute_result"
    }
   ],
   "source": [
    "#mean \n",
    "np.mean(data)"
   ]
  },
  {
   "cell_type": "code",
   "execution_count": 3,
   "id": "e485df4f-20b2-4630-ba68-8c9ce6da68ba",
   "metadata": {},
   "outputs": [
    {
     "data": {
      "text/plain": [
       "177.0"
      ]
     },
     "execution_count": 3,
     "metadata": {},
     "output_type": "execute_result"
    }
   ],
   "source": [
    "#median\n",
    "np.median(data)"
   ]
  },
  {
   "cell_type": "code",
   "execution_count": 2,
   "id": "7a008b8a-3c86-4903-bbfa-900f85a4c226",
   "metadata": {},
   "outputs": [
    {
     "name": "stderr",
     "output_type": "stream",
     "text": [
      "/tmp/ipykernel_77/445363391.py:3: FutureWarning: Unlike other reduction functions (e.g. `skew`, `kurtosis`), the default behavior of `mode` typically preserves the axis it acts along. In SciPy 1.11.0, this behavior will change: the default value of `keepdims` will become False, the `axis` over which the statistic is taken will be eliminated, and the value None will no longer be accepted. Set `keepdims` to True or False to avoid this warning.\n",
      "  stats.mode(data)\n"
     ]
    },
    {
     "data": {
      "text/plain": [
       "ModeResult(mode=array([177.]), count=array([3]))"
      ]
     },
     "execution_count": 2,
     "metadata": {},
     "output_type": "execute_result"
    }
   ],
   "source": [
    "#mode\n",
    "from scipy import stats\n",
    "stats.mode(data)"
   ]
  },
  {
   "cell_type": "code",
   "execution_count": 6,
   "id": "2ba53083-b749-4db1-a1fa-13019b918ed6",
   "metadata": {},
   "outputs": [
    {
     "data": {
      "text/plain": [
       "1.7885814036548633"
      ]
     },
     "execution_count": 6,
     "metadata": {},
     "output_type": "execute_result"
    }
   ],
   "source": [
    "#ans 4\n",
    "# standard deviation \n",
    "d1 = [178,177,176,177,178.2,178,175,179,180,175,178.9,176.2,177,172.5,178,176.5]\n",
    "\n",
    "np.std(d1)"
   ]
  },
  {
   "cell_type": "code",
   "execution_count": null,
   "id": "5fdcbd4d-a8d3-4270-ac48-de6e47f511ef",
   "metadata": {},
   "outputs": [],
   "source": [
    "# Ans 5\n",
    "Range - The range is the difference between the largest and the smallest observation in the data.\n",
    "#example :\n",
    "1, 3,5, 6, 7 => Range = 7 -1= 6\n",
    "\n",
    "Variance: Deduct the mean from each data in the set, square each of them and add each square and finally divide them by the total no of values in the data set to get the variance.\n",
    "Variance (σ2) = ∑(X−μ)2/N\n",
    "\n",
    "Standard Deviation: The square root of the variance is known as the standard deviation \n",
    "S.D. = √σ."
   ]
  },
  {
   "cell_type": "code",
   "execution_count": null,
   "id": "e1bd8688-5ebd-48f7-96c4-aded8cb1bd5d",
   "metadata": {},
   "outputs": [],
   "source": [
    "# Ans 6\n",
    " A Venn diagram illustrates the relationships between two or more data sets."
   ]
  },
  {
   "cell_type": "code",
   "execution_count": null,
   "id": "149943ab-c039-45a2-83fc-ec7dfaa5df98",
   "metadata": {},
   "outputs": [],
   "source": [
    "# Ans 7\n",
    "(1)2,6\n",
    "(2) 0,3,4,5,7"
   ]
  },
  {
   "cell_type": "code",
   "execution_count": null,
   "id": "b855dbd6-132e-49e0-80f5-50208b74ed48",
   "metadata": {},
   "outputs": [],
   "source": [
    "# Ans 8\n",
    "Skewness is a measure of the asymmetry of a distribution"
   ]
  },
  {
   "cell_type": "code",
   "execution_count": null,
   "id": "70ae52d5-62fb-4c86-b9ba-fefd052e9cd9",
   "metadata": {},
   "outputs": [],
   "source": [
    "#ans 9\n",
    "When the distribution is skewed to the right, the mean is often greater than the median"
   ]
  },
  {
   "cell_type": "code",
   "execution_count": null,
   "id": "b9ec7ec2-f5f2-4b97-a63e-916139be4fa7",
   "metadata": {},
   "outputs": [],
   "source": [
    "#ans 10\n",
    "Covarience indicates the direction of the linear relationship between the given two variables.\t\n",
    "Correlation measures the direction and strength of the linear relationship between the given two variables.\n",
    "\n",
    "\n",
    "These can be measure by using :\n",
    "    df.cov() for covarience\n",
    "    \n",
    "    df.corr() for correlation"
   ]
  },
  {
   "cell_type": "code",
   "execution_count": null,
   "id": "5be317de-592c-4f7f-acf9-939b09a303d0",
   "metadata": {},
   "outputs": [],
   "source": [
    "# Ans 11\n",
    "\n",
    "The formula for calculating the sample mean is:\n",
    "\n",
    "sample mean = (sum of all values in the sample) / (number of values in the sample)\n",
    "\n",
    "For example, suppose we have the following dataset of 10 values: [2, 3, 5, 7, 8, 9, 11, 12, 15, 17]. To calculate the sample mean:\n",
    "\n",
    "sample mean = (2 + 3 + 5 + 7 + 8 + 9 + 11 + 12 + 15 + 17) / 10\n",
    "sample mean = 89 / 10\n",
    "sample mean = 8.9"
   ]
  },
  {
   "cell_type": "code",
   "execution_count": null,
   "id": "7af40ea3-c4b3-47b1-86fa-9905e74e6564",
   "metadata": {},
   "outputs": [],
   "source": [
    "# Ans 12\n",
    "When we have a normally distributed sample we can legitimately use both the mean or the median as your measure of central tendency"
   ]
  },
  {
   "cell_type": "code",
   "execution_count": null,
   "id": "48220e52-31b6-4590-b2db-5e7177d152d0",
   "metadata": {},
   "outputs": [],
   "source": [
    "#Ans 13\n",
    "Covariance shows you how the two variables differ, whereas correlation shows you how the two variables are related."
   ]
  },
  {
   "cell_type": "code",
   "execution_count": null,
   "id": "3c94c17a-5926-4816-b0ab-173027b72657",
   "metadata": {},
   "outputs": [],
   "source": [
    "# Ans 14\n",
    "An outlier can affect the mean by being unusually small or unusually large."
   ]
  },
  {
   "cell_type": "code",
   "execution_count": 7,
   "id": "95083557-048a-418e-b7d2-6095be50e654",
   "metadata": {},
   "outputs": [],
   "source": [
    "# example\n",
    "outlier = 1000\n",
    "\n",
    "d1 = [4,5,6,8,3,10,1000]"
   ]
  },
  {
   "cell_type": "code",
   "execution_count": 8,
   "id": "49ec4f85-3093-486b-a88e-8851a09d1058",
   "metadata": {},
   "outputs": [
    {
     "data": {
      "text/plain": [
       "148.0"
      ]
     },
     "execution_count": 8,
     "metadata": {},
     "output_type": "execute_result"
    }
   ],
   "source": [
    "np.mean(d1)"
   ]
  },
  {
   "cell_type": "code",
   "execution_count": 9,
   "id": "4f19cda7-b354-41a7-845a-88bbd68230f1",
   "metadata": {},
   "outputs": [
    {
     "data": {
      "text/plain": [
       "6.0"
      ]
     },
     "execution_count": 9,
     "metadata": {},
     "output_type": "execute_result"
    }
   ],
   "source": [
    "d2 = [4,5,6,8,3,10]\n",
    "np.mean(d2)"
   ]
  },
  {
   "cell_type": "code",
   "execution_count": null,
   "id": "ad07dc7e-e954-4894-b92a-580a3b840569",
   "metadata": {},
   "outputs": [],
   "source": []
  }
 ],
 "metadata": {
  "kernelspec": {
   "display_name": "Python 3 (ipykernel)",
   "language": "python",
   "name": "python3"
  },
  "language_info": {
   "codemirror_mode": {
    "name": "ipython",
    "version": 3
   },
   "file_extension": ".py",
   "mimetype": "text/x-python",
   "name": "python",
   "nbconvert_exporter": "python",
   "pygments_lexer": "ipython3",
   "version": "3.10.8"
  }
 },
 "nbformat": 4,
 "nbformat_minor": 5
}
